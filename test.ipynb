{
 "cells": [
  {
   "cell_type": "code",
   "execution_count": 1,
   "metadata": {},
   "outputs": [
    {
     "name": "stdout",
     "output_type": "stream",
     "text": [
      "Finding Wikipedia summary for Microsoft\n",
      "Getting phrases for Microsoft Corporation is an American multinational corporation and technology company headquartered in Redmond, Washington.  Its best-known software products are the Windows line of operating systems, the Microsoft 365 suite of productivity applications, the Azure cloud computing platform and the Edge web browser. Its flagship hardware products are the Xbox video game consoles and the Microsoft Surface lineup of touchscreen personal computers. Microsoft ranked No. 14 in the 2022 Fortune 500 rankings of the largest United States corporations by total revenue; and it was the world's largest software maker by revenue in 2022 according to Forbes Global 2000.\n",
      "Getting textblob for Microsoft Corporation is an American multinational corporation and technology company headquartered in Redmond, Washington.  Its best-known software products are the Windows line of operating systems, the Microsoft 365 suite of productivity applications, the Azure cloud computing platform and the Edge web browser. Its flagship hardware products are the Xbox video game consoles and the Microsoft Surface lineup of touchscreen personal computers. Microsoft ranked No. 14 in the 2022 Fortune 500 rankings of the largest United States corporations by total revenue; and it was the world's largest software maker by revenue in 2022 according to Forbes Global 2000.\n"
     ]
    }
   ],
   "source": [
    "from nlplogic.corenlp import *\n",
    "\n",
    "text = summarize_wikipedia('Microsoft', 5)\n",
    "text2 = get_phrases(text)"
   ]
  },
  {
   "cell_type": "code",
   "execution_count": 2,
   "metadata": {},
   "outputs": [
    {
     "data": {
      "text/plain": [
       "WordList(['microsoft', 'american multinational corporation', 'technology company', 'redmond', 'washington', 'best-known software products', 'windows', 'microsoft', 'productivity applications', 'azure', 'edge', 'web browser', 'flagship hardware products', 'xbox', 'video game consoles', 'microsoft surface', 'personal computers', 'microsoft', 'fortune', 'total revenue', \"world 's\", 'software maker', 'forbes global'])"
      ]
     },
     "execution_count": 2,
     "metadata": {},
     "output_type": "execute_result"
    }
   ],
   "source": [
    "text2"
   ]
  }
 ],
 "metadata": {
  "kernelspec": {
   "display_name": "venv",
   "language": "python",
   "name": "python3"
  },
  "language_info": {
   "codemirror_mode": {
    "name": "ipython",
    "version": 3
   },
   "file_extension": ".py",
   "mimetype": "text/x-python",
   "name": "python",
   "nbconvert_exporter": "python",
   "pygments_lexer": "ipython3",
   "version": "3.12.3"
  }
 },
 "nbformat": 4,
 "nbformat_minor": 2
}
